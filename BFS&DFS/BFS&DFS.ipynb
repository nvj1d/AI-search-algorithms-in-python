{
 "cells": [
  {
   "cell_type": "markdown",
   "metadata": {},
   "source": [
    "#graph.png"
   ]
  },
  {
   "cell_type": "code",
   "execution_count": 2,
   "metadata": {},
   "outputs": [],
   "source": [
    "#the GRAPH:\n",
    "\n",
    "graph = {\n",
    "    # node:adjacent nodes\n",
    "    'S' : ['B', 'D', 'A'],\n",
    "    'A' : ['C'],\n",
    "    'B' : ['D'],\n",
    "    'C' : ['G', 'D'], \n",
    "    'D' : ['G'],\n",
    "    'G' : [] #could be ignored\n",
    "}"
   ]
  },
  {
   "cell_type": "code",
   "execution_count": 6,
   "metadata": {},
   "outputs": [],
   "source": [
    "def BFS(graph, start, goal):\n",
    "    visited = []\n",
    "    queue = [[start]]\n",
    "    while queue:\n",
    "        path = queue.pop(0)\n",
    "        node = path[-1]\n",
    "        if node in visited:\n",
    "            continue\n",
    "        visited.append(node)\n",
    "        if node == goal:\n",
    "            return path\n",
    "        else:\n",
    "            adjacent_nodes = graph.get(node, [])\n",
    "            for node2 in adjacent_nodes:\n",
    "                new_path = path.copy()\n",
    "                new_path.append(node2)\n",
    "                queue.append(new_path)"
   ]
  },
  {
   "cell_type": "code",
   "execution_count": 12,
   "metadata": {},
   "outputs": [
    {
     "name": "stdout",
     "output_type": "stream",
     "text": [
      "the solution using BFS: ['S', 'D', 'G']\n"
     ]
    }
   ],
   "source": [
    "solution = BFS(graph, 'S', 'G')\n",
    "print(f\"the solution using BFS: {solution}\")"
   ]
  },
  {
   "cell_type": "code",
   "execution_count": 10,
   "metadata": {},
   "outputs": [],
   "source": [
    "def DFS(graph, start, goal):\n",
    "    visited = []\n",
    "    stack = [[start]]\n",
    "    while stack:\n",
    "        path = stack.pop()\n",
    "        node = path[-1]\n",
    "        if node in visited:\n",
    "            continue\n",
    "        visited.append(node)\n",
    "        if node == goal:\n",
    "            return path\n",
    "        else:\n",
    "            adjacent_nodes = graph.get(node, [])\n",
    "            for node2 in adjacent_nodes:\n",
    "                new_path = path.copy()\n",
    "                new_path.append(node2)\n",
    "                stack.append(new_path)"
   ]
  },
  {
   "cell_type": "code",
   "execution_count": 13,
   "metadata": {},
   "outputs": [
    {
     "name": "stdout",
     "output_type": "stream",
     "text": [
      "the solution using DFS: ['S', 'A', 'C', 'D', 'G']\n"
     ]
    }
   ],
   "source": [
    "solution = DFS(graph, 'S', 'G')\n",
    "print(f\"the solution using DFS: {solution}\")"
   ]
  }
 ],
 "metadata": {
  "interpreter": {
   "hash": "a01b633d76156c2567e46d45d5ad15d2ca29f3a853c397f673970a86bef7e8b8"
  },
  "kernelspec": {
   "display_name": "Python 3.7.13 ('42AI-mnajid')",
   "language": "python",
   "name": "python3"
  },
  "language_info": {
   "codemirror_mode": {
    "name": "ipython",
    "version": 3
   },
   "file_extension": ".py",
   "mimetype": "text/x-python",
   "name": "python",
   "nbconvert_exporter": "python",
   "pygments_lexer": "ipython3",
   "version": "3.7.13"
  },
  "orig_nbformat": 4
 },
 "nbformat": 4,
 "nbformat_minor": 2
}
